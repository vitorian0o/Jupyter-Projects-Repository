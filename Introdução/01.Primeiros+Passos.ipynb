{
 "cells": [
  {
   "cell_type": "code",
   "execution_count": 2,
   "id": "ee2be65c",
   "metadata": {},
   "outputs": [
    {
     "name": "stdout",
     "output_type": "stream",
     "text": [
      "Script executado com sucesso!\n"
     ]
    }
   ],
   "source": [
    "#Este sinal serve para comentar um código para que o usuário saiba o que o código faz\n",
    "\n",
    "\"\"\"\n",
    "Usando 3 aspas podemos\n",
    "comentar várias linhas\n",
    "assim quando o código for executado o scrip pula estas linhas\n",
    "\"\"\"\n",
    "\n",
    "\n",
    "print(\"Script executado com sucesso!\")"
   ]
  },
  {
   "cell_type": "code",
   "execution_count": 22,
   "id": "d8ea1d72",
   "metadata": {},
   "outputs": [
    {
     "name": "stdout",
     "output_type": "stream",
     "text": [
      "Inteiro: 42\n",
      "Flutuante: 42.0\n",
      "Complexo: (3+4j)\n",
      "Texto: Olá, Mundo!\n",
      "Lista: [1, 2, 3, 3]\n",
      "Tupla: (1, 2, 3, 4, 5)\n",
      "Conjunto: {1, 2, 3}\n",
      "Dicionário: {'chave': 'valor'}\n",
      "Booleano: True\n",
      "NoneType (None): None\n"
     ]
    }
   ],
   "source": [
    "\"\"\"\n",
    "O que é uma variável?\n",
    "\n",
    "Uma variável é um nome que se refere a um valor armazenado na memória do computador. \n",
    "Em programação, as variáveis são usadas para armazenar dados que podem ser utilizados \n",
    "e manipulados ao longo de um programa.\n",
    "\n",
    "Em Python, as variáveis não são declaradas com um tipo específico. \n",
    "\n",
    "No entanto, os tipos de dados que você pode armazenar em uma variável incluem:\n",
    "\"\"\"\n",
    "\n",
    "#Principais tipos de variaveis\n",
    "\n",
    "#Inteiros (int): Números inteiros, sem parte decimal.\n",
    "inteiro = 42\n",
    "print(\"Inteiro:\", inteiro)\n",
    "\n",
    "#Ponto Flutuante (float): Números reais, que têm uma parte decimal.\n",
    "flutuante = 42.0\n",
    "print(\"Flutuante:\", flutuante)\n",
    "\n",
    "#Complexos (complex): Números complexos, que têm uma parte real e uma parte imaginária.\n",
    "complexo = 3 + 4j\n",
    "print(\"Complexo:\", complexo)\n",
    "\n",
    "#Strings (str): Sequências de caracteres.\n",
    "texto = \"Olá, Mundo!\"\n",
    "print(\"Texto:\", texto)\n",
    "\n",
    "\n",
    "\"\"\"\n",
    "Os termos \"mutável\" e \"imutável\" referem-se à capacidade de alterar o conteúdo \n",
    "de um objeto depois que ele foi criado.\n",
    "\n",
    "Mutável: Significa que o conteúdo do objeto pode ser alterado após a sua criação. As \n",
    "listas em Python são mutáveis, o que significa que você pode modificar seus elementos.\n",
    "\n",
    "    \n",
    "Imutável: Significa que o conteúdo do objeto não pode ser alterado após a sua criação. As \n",
    "tuplas em Python são imutáveis, o que significa que, uma vez criada, você não pode modificar \n",
    "seus elementos.\n",
    "\n",
    "\"\"\"\n",
    "#Listas (list): Uma coleção ordenada e mutável.\n",
    "lista = [1, 2, 3, 3]\n",
    "print(\"Lista:\", lista)\n",
    "\n",
    "#Tuplas (tuple): Uma coleção ordenada e imutável.\n",
    "tupla = (1, 2, 3, 4, 5)\n",
    "print(\"Tupla:\", tupla)\n",
    "\n",
    "#Conjuntos (set): Uma coleção não ordenada de itens únicos.\n",
    "conjunto = {1, 2, 3, 3}\n",
    "print(\"Conjunto:\", conjunto)\n",
    "\n",
    "#Dicionários (dict): Uma coleção não ordenada de pares chave-valor.\n",
    "dicionario = {\"chave\": \"valor\"}\n",
    "print(\"Dicionário:\", dicionario)\n",
    "\n",
    "#Booleanos (bool): Valores verdadeiro ou falso.\n",
    "booleano = True\n",
    "print(\"Booleano:\", booleano)\n",
    "\n",
    "#NoneType (None): Um tipo especial que representa a ausência de valor.\n",
    "nenhum = None\n",
    "print(\"NoneType (None):\", nenhum)"
   ]
  },
  {
   "cell_type": "code",
   "execution_count": null,
   "id": "4bd64956",
   "metadata": {},
   "outputs": [],
   "source": []
  },
  {
   "cell_type": "code",
   "execution_count": 26,
   "id": "3e6a05ad",
   "metadata": {},
   "outputs": [
    {
     "name": "stdout",
     "output_type": "stream",
     "text": [
      "Nome: Nicole\n",
      "Idade: 30\n",
      "Nome: Nicole , Idade: 30\n"
     ]
    }
   ],
   "source": [
    "#Variaveis\n",
    "\n",
    "idade = 30\n",
    "nome = \"Nicole\"\n",
    "\n",
    "print(\"Nome:\", nome)\n",
    "print(\"Idade:\", idade)\n",
    "print(\"Nome:\", nome, \", Idade:\", idade)\n",
    "\n",
    "\"\"\"\n",
    "idade = 30: Nesta linha, estamos declarando uma variável chamada \n",
    "idade e atribuindo o valor 30 a ela. Essa variável pode ser usada posteriormente \n",
    "no código para referenciar esse valor.\n",
    "\n",
    "nome = \"Nicole\": Aqui, estamos declarando uma variável chamada nome e atribuindo \n",
    "a ela a string \"Nicole\". Assim como a variável idade, essa variável também pode ser \n",
    "usada posteriormente no código.\n",
    "\n",
    "print(\"Nome: \", nome, \" Idade: \", idade): Esta linha usa a função print para \n",
    "imprimir uma string na tela. Ela começa com a string literal \"Nome: \", seguida pelo valor \n",
    "da variável nome, que é \"Nicole\", uma string literal com espaço e \" Idade: \", e finalmente \n",
    "o valor da variável idade, que é 30.\n",
    "\"\"\""
   ]
  },
  {
   "cell_type": "code",
   "execution_count": null,
   "id": "263c53df",
   "metadata": {},
   "outputs": [],
   "source": []
  },
  {
   "cell_type": "code",
   "execution_count": 34,
   "id": "ea301d2b",
   "metadata": {},
   "outputs": [
    {
     "name": "stdout",
     "output_type": "stream",
     "text": [
      "<class 'str'>\n",
      "<class 'int'>\n"
     ]
    }
   ],
   "source": [
    "#Podemos obter o tipo de uma variável usando a função type\n",
    "\n",
    "\"\"\"\n",
    "nome = str(\"Ana Paula\"): A string \"Ana Paula\" é passada para a função str(), que \n",
    "retorna a mesma string. A função str() é desnecessária neste caso, pois \"Ana Paula\" já \n",
    "é uma string. A variável nome é atribuída a essa string.\n",
    "\n",
    "idade = int(31): O número inteiro 31 é passado para a função int(), que retorna o mesmo \n",
    "número. Novamente, a função int() é desnecessária aqui, pois 31 já é um inteiro. A variável idade é \n",
    "atribuída a esse valor inteiro.\n",
    "\n",
    "print(type(nome)): A função type() retorna o tipo da variável nome, que é <class 'str'>, já que nome \n",
    "é uma string. Esse valor é então impresso, resultando na saída:\n",
    "\n",
    "\"\"\"\n",
    "\n",
    "nome = str(\"Ana Paula\")\n",
    "idade = 31\n",
    "\n",
    "print(type(nome))\n",
    "print(type(idade))"
   ]
  },
  {
   "cell_type": "code",
   "execution_count": 37,
   "id": "d8c15b09",
   "metadata": {},
   "outputs": [
    {
     "name": "stdout",
     "output_type": "stream",
     "text": [
      "30\n",
      "Ana\n"
     ]
    }
   ],
   "source": [
    "#As variáveis diferenciam letras maiúsculas de minúsculas\n",
    "\n",
    "i = 30\n",
    "I = \"Ana\"\n",
    "\n",
    "print(i)\n",
    "print(I)"
   ]
  },
  {
   "cell_type": "code",
   "execution_count": 40,
   "id": "c88d5bd9",
   "metadata": {},
   "outputs": [
    {
     "name": "stdout",
     "output_type": "stream",
     "text": [
      "Texto 1\n",
      "Texto 2\n",
      "Texto 3\n",
      "Texto 4\n"
     ]
    }
   ],
   "source": [
    "#Podemos também atribuir valores a várias variáveis em uma só linha\n",
    "\n",
    "\"\"\"\n",
    "O código está utilizando a desempacotamento de tuplas para atribuir \n",
    "várias variáveis em uma única linha e, em seguida, imprimindo essas variáveis. \n",
    "\n",
    "var1, var2, var3, var4 = \"Texto 1\", \"Texto 2\", \"Texto 3\", \"Texto 4\":\n",
    "Nesta linha, quatro strings são atribuídas a quatro variáveis respectivas \n",
    "em uma única operação. \n",
    "\n",
    "A variável var1 é atribuída à string \"Texto 1\", \n",
    "var2 à string \"Texto 2\", \n",
    "var3 à string \"Texto 3\", \n",
    "var4 à string \"Texto 4\".\n",
    "\"\"\"\n",
    "var1, var2, var3, var4 = \"Texto 1\", \"Texto 2\", \"Texto 3\", \"Texto 4\"\n",
    "\n",
    "print(var1)\n",
    "print(var2)\n",
    "print(var3)\n",
    "print(var4)"
   ]
  },
  {
   "cell_type": "code",
   "execution_count": null,
   "id": "eeb66174",
   "metadata": {},
   "outputs": [],
   "source": []
  },
  {
   "cell_type": "code",
   "execution_count": 42,
   "id": "d7093c56",
   "metadata": {},
   "outputs": [
    {
     "name": "stdout",
     "output_type": "stream",
     "text": [
      "Ana Paula\n",
      "Ana Paula\n",
      "Ana Paula\n",
      "Ana Paula\n"
     ]
    }
   ],
   "source": [
    "#Podemos atribuir o mesmo valor a várias variáveis em uma única linha\n",
    "\n",
    "var1 = var2 = var3 = var4 = \"Ana Paula\"\n",
    "\n",
    "print(var1)\n",
    "print(var2)\n",
    "print(var3)\n",
    "print(var4)"
   ]
  },
  {
   "cell_type": "code",
   "execution_count": null,
   "id": "f73597e9",
   "metadata": {},
   "outputs": [],
   "source": []
  },
  {
   "cell_type": "code",
   "execution_count": 43,
   "id": "b8a6ec84",
   "metadata": {},
   "outputs": [
    {
     "name": "stdout",
     "output_type": "stream",
     "text": [
      "Texto 1\n",
      "Texto 2\n",
      "Texto 3\n",
      "Texto 4\n"
     ]
    }
   ],
   "source": [
    "#Se tiver uma coleção de valores em uma lista, podemos extrair em variáveis. Isso é chamado de descompactar\n",
    "\n",
    "exemplo = \"Texto 1\", \"Texto 2\", \"Texto 3\", \"Texto 4\"\n",
    "var1, var2, var3, var4 = exemplo\n",
    "\n",
    "print(var1)\n",
    "print(var2)\n",
    "print(var3)\n",
    "print(var4)"
   ]
  },
  {
   "cell_type": "code",
   "execution_count": null,
   "id": "a21e8cc7",
   "metadata": {},
   "outputs": [],
   "source": []
  },
  {
   "cell_type": "code",
   "execution_count": 48,
   "id": "a0e87c1d",
   "metadata": {},
   "outputs": [
    {
     "name": "stdout",
     "output_type": "stream",
     "text": [
      "O nome dela é Ana Paula\n"
     ]
    }
   ],
   "source": [
    "#Para juntar textos e variáveis em Python usamos o caracter + ou ,\n",
    "\n",
    "nome = \"Ana Paula\"\n",
    "\n",
    "print(\"O nome dela é \" + nome)"
   ]
  },
  {
   "cell_type": "code",
   "execution_count": 51,
   "id": "b1a3f2bd",
   "metadata": {},
   "outputs": [
    {
     "name": "stdout",
     "output_type": "stream",
     "text": [
      "DezCinco\n"
     ]
    }
   ],
   "source": [
    "numero1 = \"Dez\"\n",
    "numero2 = \"Cinco\"\n",
    "\n",
    "print(numero1 + numero2)"
   ]
  },
  {
   "cell_type": "code",
   "execution_count": null,
   "id": "846c9523",
   "metadata": {},
   "outputs": [],
   "source": []
  },
  {
   "cell_type": "code",
   "execution_count": 53,
   "id": "a5dc426a",
   "metadata": {},
   "outputs": [
    {
     "name": "stdout",
     "output_type": "stream",
     "text": [
      "Nome completo: Thuane Alves\n"
     ]
    }
   ],
   "source": [
    "#Para juntar textos e variáveis em Python usamos o caracter + ou ,\n",
    "\n",
    "\"\"\"\n",
    "Definindo duas variáveis, nome e sobrenome, que contêm strings. Em seguida, \n",
    "usamos a concatenação de strings para juntar essas variáveis e imprimi-las como um \n",
    "nome completo. \n",
    "\n",
    "    Vamos analisar cada parte:\n",
    "\n",
    "    nome = \"Thuane\": Atribui a string \"Thuane\" à variável nome.\n",
    "\n",
    "    sobrenome = \"Alves\": Atribui a string \"Alves\" à variável sobrenome.\n",
    "\n",
    "    print(\"Nome completo: \" + nome + \" \" + sobrenome)\n",
    "    \n",
    "        - \"Nome completo: \" é uma string literal que será o começo da saída.\n",
    "        - nome é a variável que contém a string \"Thuane\", e ela é concatenada à string anterior.        \n",
    "        - \" \" é uma string literal contendo um espaço, e ela é usada para separar o nome e o sobrenome na saída.\n",
    "        - sobrenome é a variável que contém a string \"Alves\", e ela é concatenada ao restante da string.\n",
    "\n",
    "    A concatenação dessas partes resulta na string \"Nome completo: Thuane Alves\", que é então impressa.\n",
    "    \n",
    "\"\"\"\n",
    "\n",
    "nome = \"Thuane\"\n",
    "sobrenome = \"Alves\"\n",
    "\n",
    "print(\"Nome completo: \" + nome + \" \" + sobrenome)"
   ]
  },
  {
   "cell_type": "code",
   "execution_count": null,
   "id": "bd10094d",
   "metadata": {},
   "outputs": [],
   "source": []
  },
  {
   "cell_type": "code",
   "execution_count": 55,
   "id": "c8c5e0bc",
   "metadata": {},
   "outputs": [
    {
     "name": "stdout",
     "output_type": "stream",
     "text": [
      "A soma é: 125.5\n"
     ]
    }
   ],
   "source": [
    "# Exercício de Variáveis em Python\n",
    "\n",
    "# 1. Declare uma variável chamada \"idade\" e atribua o valor 25 a ela.\n",
    "idade = 25\n",
    "\n",
    "# 2. Declare uma variável chamada \"nome\" e atribua o valor \"João\" a ela.\n",
    "nome = \"João\"\n",
    "\n",
    "# 3. Declare uma variável chamada \"saldo\" e atribua o valor 100.50 a ela.\n",
    "saldo = 100.50\n",
    "\n",
    "# 4. Crie uma variável chamada \"soma\" e atribua a ela a soma das variáveis \"idade\" e \"saldo\".\n",
    "soma = idade + saldo\n",
    "\n",
    "# 5. Imprima na tela o valor da variável \"soma\".\n",
    "print(\"A soma é:\", soma)\n"
   ]
  },
  {
   "cell_type": "code",
   "execution_count": null,
   "id": "13db86fc",
   "metadata": {},
   "outputs": [],
   "source": []
  },
  {
   "cell_type": "code",
   "execution_count": 61,
   "id": "b47238fa",
   "metadata": {},
   "outputs": [
    {
     "name": "stdout",
     "output_type": "stream",
     "text": [
      "A média é: 7.57\n"
     ]
    }
   ],
   "source": [
    "# Exercício de Variáveis em Python\n",
    "\n",
    "# 1. Crie uma variável chamada \"nota1\" e atribua o valor 7.5 a ela.\n",
    "nota1 = 7.5\n",
    "\n",
    "# 2. Crie uma variável chamada \"nota2\" e atribua o valor 8.3 a ela.\n",
    "nota2 = 8.3\n",
    "\n",
    "# 3. Crie uma variável chamada \"nota3\" e atribua o valor 6.9 a ela.\n",
    "nota3 = 6.9\n",
    "\n",
    "# 4. Calcule a média das três notas e atribua o resultado a uma variável chamada \"media\".\n",
    "media = (nota1 + nota2 + nota3) / 3\n",
    "\n",
    "# 5. Imprima na tela o valor da variável \"media\" formatado com duas casas decimais.\n",
    "print(\"A média é:\", format(media, \".2f\"))\n"
   ]
  },
  {
   "cell_type": "code",
   "execution_count": null,
   "id": "2540e0a7",
   "metadata": {},
   "outputs": [],
   "source": []
  },
  {
   "cell_type": "code",
   "execution_count": 16,
   "id": "faad55ff",
   "metadata": {},
   "outputs": [
    {
     "name": "stdout",
     "output_type": "stream",
     "text": [
      "Digite seu nome: \n",
      "Allan Silva\n",
      "\n",
      "O seu nome é: Allan Silva\n"
     ]
    }
   ],
   "source": [
    "nome = input(\"Digite seu nome: \\n\")\n",
    "\n",
    "print(\"\\nO seu nome é: \" + nome)"
   ]
  },
  {
   "cell_type": "code",
   "execution_count": null,
   "id": "a1dc92b3",
   "metadata": {},
   "outputs": [],
   "source": []
  },
  {
   "cell_type": "code",
   "execution_count": 6,
   "id": "062df5e1",
   "metadata": {},
   "outputs": [
    {
     "name": "stdout",
     "output_type": "stream",
     "text": [
      "Digite seu nome: \n",
      "Roberta\n",
      "Digite a nota 1: 6\n",
      "Digite a nota 2: 7\n",
      "\n",
      "Aluno: Roberta  Média: 6.5\n"
     ]
    }
   ],
   "source": [
    "\"\"\"\n",
    "Solicita ao usuário que insira seu nome e duas notas, calcula a média dessas notas e, \n",
    "em seguida, imprime uma mensagem contendo o nome do aluno e a média calculada. \n",
    "\n",
    "Vamos analisar cada parte do código:\n",
    "\n",
    "    nome = input(\"Digite seu nome\"): Solicita ao usuário que digite seu nome e \n",
    "    armazena o valor inserido na variável nome.\n",
    "\n",
    "    nota1 = float(input(\"Digite a nota 1\")): Solicita ao usuário que digite a \n",
    "    primeira nota, converte o valor inserido para um número de ponto flutuante usando \n",
    "    float(), e armazena o resultado na variável nota1.\n",
    "\n",
    "    nota2 = float(input(\"Digite a nota 2\")): Semelhante à linha anterior, solicita ao \n",
    "    usuário que digite a segunda nota, converte o valor inserido para um número de ponto \n",
    "    flutuante e armazena o resultado na variável nota2.\n",
    "\n",
    "    media = (nota1 + nota2) / 2: Calcula a média das duas notas somando nota1 e nota2, e dividindo \n",
    "    o resultado por 2. A média é armazenada na variável media.\n",
    "\n",
    "    print(\"Aluno \", nome, \" Média: \", media): Imprime uma mensagem formatada contendo o nome do \n",
    "    aluno e a média calculada. A função print() pode receber vários argumentos separados \n",
    "    por vírgulas, e imprimirá cada um deles sequencialmente, separados por um espaço. \n",
    "    \n",
    "    O resultado final combina os valores das variáveis nome e media com as strings \n",
    "    literais para criar a saída completa.\n",
    "\n",
    "\"\"\"\n",
    "\n",
    "nome = input(\"Digite seu nome: \\n\")\n",
    "nota1 = float(input(\"Digite a nota 1: \"))\n",
    "nota2 = float(input(\"Digite a nota 2: \"))\n",
    "\n",
    "media = (nota1 + nota2) / 2\n",
    "\n",
    "print(\"\\nAluno:\", nome, \" Média:\", media)"
   ]
  },
  {
   "cell_type": "code",
   "execution_count": null,
   "id": "470c1b86",
   "metadata": {},
   "outputs": [],
   "source": []
  },
  {
   "cell_type": "code",
   "execution_count": 12,
   "id": "8bdecddc",
   "metadata": {},
   "outputs": [
    {
     "name": "stdout",
     "output_type": "stream",
     "text": [
      "A tabuada de qual número você deseja ver? 6\n",
      "6 * 1 = 6\n",
      "6 * 2 = 12\n",
      "6 * 3 = 18\n",
      "6 * 4 = 24\n",
      "6 * 5 = 30\n",
      "6 * 6 = 36\n",
      "6 * 7 = 42\n",
      "6 * 8 = 48\n",
      "6 * 9 = 54\n",
      "6 * 10 = 60\n"
     ]
    }
   ],
   "source": [
    "\"\"\"\n",
    "\n",
    "Exercício: Tabuada Personalizada\n",
    "\n",
    "Escreva um programa que solicite ao usuário um número inteiro e exiba a tabuada desse número, do 1 ao 10.\n",
    "\n",
    "Entrada:\n",
    "\n",
    "    Um número inteiro n, representando o número do qual você deseja ver a tabuada.\n",
    "\n",
    "Saída:\n",
    "\n",
    "    O programa deve imprimir dez linhas, mostrando o resultado da multiplicação do \n",
    "    número digitado com os números de 1 a 10, no formato n * i = resultado, onde n é o número \n",
    "    digitado pelo usuário e i varia de 1 a 10.\n",
    "\n",
    "Exemplo de Entrada:\n",
    "\n",
    "A tabuada de qual número deseja ver 5\n",
    "\n",
    "\n",
    "Exemplo de Saída:\n",
    "\n",
    "5  * 1 =  5\n",
    "5  * 2 =  10\n",
    "5  * 3 =  15\n",
    "5  * 4 =  20\n",
    "5  * 5 =  25\n",
    "5  * 6 =  30\n",
    "5  * 7 =  35\n",
    "5  * 8 =  40\n",
    "5  * 9 =  45\n",
    "5  * 10 =  50\n",
    "\n",
    "\n",
    "\"\"\"\n",
    "\n",
    "#Tabuada\n",
    "\n",
    "nDigitado = int(input(\"A tabuada de qual número você deseja ver? \"))\n",
    "\n",
    "print(nDigitado, \"* 1 =\", nDigitado * 1)\n",
    "print(nDigitado, \"* 2 =\", nDigitado * 2)\n",
    "print(nDigitado, \"* 3 =\", nDigitado * 3)\n",
    "print(nDigitado, \"* 4 =\", nDigitado * 4)\n",
    "print(nDigitado, \"* 5 =\", nDigitado * 5)\n",
    "print(nDigitado, \"* 6 =\", nDigitado * 6)\n",
    "print(nDigitado, \"* 7 =\", nDigitado * 7)\n",
    "print(nDigitado, \"* 8 =\", nDigitado * 8)\n",
    "print(nDigitado, \"* 9 =\", nDigitado * 9)\n",
    "print(nDigitado, \"* 10 =\", nDigitado * 10)"
   ]
  },
  {
   "cell_type": "code",
   "execution_count": null,
   "id": "502b4c56",
   "metadata": {},
   "outputs": [],
   "source": []
  },
  {
   "cell_type": "code",
   "execution_count": 15,
   "id": "9b2efb84",
   "metadata": {},
   "outputs": [
    {
     "name": "stdout",
     "output_type": "stream",
     "text": [
      "Digite o ano de nascimento: 1950\n",
      "Sua idade é: 73\n"
     ]
    }
   ],
   "source": [
    "\"\"\"\n",
    "\n",
    "Exercício\n",
    "\n",
    "Crie um algoritmo que solicite o ano de nascimento do usuário e \n",
    "com base no ano corrente imprima a idade\n",
    "\n",
    "\"\"\"\n",
    "\n",
    "ano_atual = 2023\n",
    "ano_nascimento = int(input(\"Digite o ano de nascimento: \"))\n",
    "\n",
    "idade = ano_atual - ano_nascimento\n",
    "\n",
    "print(\"Sua idade é:\", idade)"
   ]
  },
  {
   "cell_type": "code",
   "execution_count": null,
   "id": "13e403dd",
   "metadata": {},
   "outputs": [],
   "source": []
  },
  {
   "cell_type": "code",
   "execution_count": 98,
   "id": "442698f5",
   "metadata": {},
   "outputs": [
    {
     "name": "stdout",
     "output_type": "stream",
     "text": [
      "605\n",
      "0.03984174916931016\n",
      "13\n",
      "maçã\n",
      "[4, 1, 5, 2, 3]\n",
      "9.01634429453945\n"
     ]
    }
   ],
   "source": [
    "#Números randomicos - Números aleatórios\n",
    "import random\n",
    "\n",
    "print(random.randrange(1, 1000))\n",
    "\n",
    "\n",
    "#Gerar um número de ponto flutuante aleatório entre 0 e 1:\n",
    "print(random.random())\n",
    "\n",
    "#Gerar um número inteiro aleatório entre dois valores (inclusive):\n",
    "print(random.randint(10, 20)) # Gera um número entre 10 e 20, inclusive.\n",
    "\n",
    "#Escolher aleatoriamente um elemento de uma lista:\n",
    "frutas = [\"maçã\", \"banana\", \"cereja\"]\n",
    "print(random.choice(frutas)) # Escolhe uma fruta aleatoriamente da lista.\n",
    "\n",
    "#Embaralhar aleatoriamente uma lista:\n",
    "numeros = [1, 2, 3, 4, 5]\n",
    "random.shuffle(numeros)\n",
    "print(numeros) # A lista 'numeros' agora está embaralhada.\n",
    "\n",
    "#Gerar um número de ponto flutuante aleatório em um intervalo específico:\n",
    "print(random.uniform(5.5, 9.5)) # Gera um número de ponto flutuante entre 5.5 e 9.5."
   ]
  },
  {
   "cell_type": "code",
   "execution_count": null,
   "id": "5bd6ee9d",
   "metadata": {},
   "outputs": [],
   "source": []
  },
  {
   "cell_type": "code",
   "execution_count": 100,
   "id": "2c5b8f24",
   "metadata": {},
   "outputs": [
    {
     "name": "stdout",
     "output_type": "stream",
     "text": [
      "P\n",
      "y\n",
      "t\n",
      "h\n",
      "o\n"
     ]
    }
   ],
   "source": [
    "#Imprimindo a posição das letras\n",
    "\n",
    "posicaoLetra = \"Python\"\n",
    "print(posicaoLetra[0])\n",
    "print(posicaoLetra[1])\n",
    "print(posicaoLetra[2])\n",
    "print(posicaoLetra[3])\n",
    "print(posicaoLetra[4])"
   ]
  },
  {
   "cell_type": "code",
   "execution_count": null,
   "id": "e7d7e87d",
   "metadata": {},
   "outputs": [],
   "source": []
  },
  {
   "cell_type": "code",
   "execution_count": 104,
   "id": "da54a7d1",
   "metadata": {},
   "outputs": [
    {
     "name": "stdout",
     "output_type": "stream",
     "text": [
      " mun\n",
      "Olá, \n",
      "mundo!\n"
     ]
    }
   ],
   "source": [
    "\"\"\"\n",
    "\"slicing\" (fatiamento) em Python para extrair partes de uma string. \n",
    "\n",
    "\n",
    "    frase = \"Olá, mundo!\": Essa linha atribui a string \"Olá, mundo!\" à variável frase.\n",
    "\n",
    "    parte = frase[4:8]: Isso fatia a string da posição 4 até a posição 8 (exclusiva). Em \n",
    "    Python, a indexação começa em 0, então a posição 4 é o quinto caractere da string, que é um \n",
    "    espaço, e a posição 8 é o nono caractere, que é a letra 'd'. Então, essa fatia inclui os \n",
    "    caracteres nas posições 4, 5, 6 e 7, que são \" mun\". O valor de parte será a string \" mun\".\n",
    "\n",
    "    print(parte): Imprime o valor de parte, que é \" mun\".\n",
    "\n",
    "    primeiros = frase[:5]: Isso fatia a string da posição inicial (inclusa) até a \n",
    "    posição 5 (exclusiva). Como não há um valor antes dos dois pontos, ele assume o \n",
    "    início da string. Portanto, essa fatia inclui os caracteres nas posições 0, 1, 2, 3 e 4, que \n",
    "    são \"Olá,\". O valor de primeiros será a string \"Olá,\".\n",
    "\n",
    "    print(primeiros): Imprime o valor de primeiros, que é \"Olá,\".\n",
    "\n",
    "    ultimos = frase[-6:]: Isso fatia a string da posição -6 até o final da string. Em \n",
    "    Python, índices negativos contam a partir do final da string, então a posição -6 é o sexto \n",
    "    caractere a partir do final, que é a letra 'm'. Como não há valor depois dos dois pontos, ele assume \n",
    "    o final da string. Portanto, essa fatia inclui os caracteres 'mundo!'. O valor de ultimos será a string \"mundo!\".\n",
    "\n",
    "    print(ultimos): Imprime o valor de ultimos, que é \"mundo!\".\n",
    "\n",
    "\n",
    "\"\"\"\n",
    "\n",
    "# Slice\n",
    "frase = \"Olá, mundo!\"\n",
    "\n",
    "# Obtendo uma parte da string usando slice\n",
    "parte = frase[4:8]\n",
    "print(parte)  # Saida:  mun\n",
    "\n",
    "# Obtendo os primeiros 5 caracteres da string\n",
    "primeiros = frase[:5]\n",
    "print(primeiros)  # Saida: Olá,\n",
    "\n",
    "# Obtendo os últimos 6 caracteres da string\n",
    "ultimos = frase[-6:]\n",
    "print(ultimos)  # Saida: mundo!"
   ]
  },
  {
   "cell_type": "code",
   "execution_count": null,
   "id": "9e886f6e",
   "metadata": {},
   "outputs": [],
   "source": []
  },
  {
   "cell_type": "code",
   "execution_count": 108,
   "id": "6d9ab834",
   "metadata": {},
   "outputs": [
    {
     "name": "stdout",
     "output_type": "stream",
     "text": [
      "True\n"
     ]
    }
   ],
   "source": [
    "#Verifica se a palavra python está na frase\n",
    "\n",
    "\n",
    "frase = \"O módulo de python é muito legal\"\n",
    "\n",
    "print(\"python\" in frase)\n",
    "\n",
    "\"\"\"\n",
    "O operador in é usado em Python para verificar a presença de um valor dentro \n",
    "de uma sequência (como uma string, lista, ou tupla). Neste caso, está sendo \n",
    "usado para verificar se uma determinada substring está contida em uma string maior.\n",
    "\"\"\"\n"
   ]
  },
  {
   "cell_type": "code",
   "execution_count": null,
   "id": "7e0bf3e1",
   "metadata": {},
   "outputs": [],
   "source": []
  },
  {
   "cell_type": "code",
   "execution_count": 112,
   "id": "2936b155",
   "metadata": {},
   "outputs": [
    {
     "name": "stdout",
     "output_type": "stream",
     "text": [
      "Sim, a palavra python está presente na frase.\n"
     ]
    }
   ],
   "source": [
    "#verifica se a palavra python está na frase\n",
    "frase = \"O módulo de python é muito legal\"\n",
    "\n",
    "#if - se\n",
    "if \"python\" in frase:\n",
    "    print(\"Sim, a palavra python está presente na frase.\")"
   ]
  },
  {
   "cell_type": "code",
   "execution_count": null,
   "id": "a1200cd3",
   "metadata": {},
   "outputs": [],
   "source": []
  },
  {
   "cell_type": "code",
   "execution_count": 115,
   "id": "bc047644",
   "metadata": {},
   "outputs": [
    {
     "name": "stdout",
     "output_type": "stream",
     "text": [
      "O módulo de python é muito legal\n"
     ]
    }
   ],
   "source": [
    "#strip - Usamos para remover espaços em branco do inicio e do final da frase\n",
    "\n",
    "frase = \"        O módulo de python é muito legal       \"\n",
    "\n",
    "print(frase.strip())"
   ]
  },
  {
   "cell_type": "code",
   "execution_count": null,
   "id": "24aab63a",
   "metadata": {},
   "outputs": [],
   "source": []
  },
  {
   "cell_type": "code",
   "execution_count": 116,
   "id": "9faabcb7",
   "metadata": {},
   "outputs": [
    {
     "name": "stdout",
     "output_type": "stream",
     "text": [
      "['Olá,', 'como', 'vai', 'você?']\n"
     ]
    }
   ],
   "source": [
    "\"\"\"\n",
    "O uso do método split em uma string, que é uma maneira útil de dividir uma string em uma \n",
    "lista de substrings com base em um determinado separador.\n",
    "\n",
    "    frase = \"Olá, como vai você?\": Essa linha atribui a string \"Olá, como vai você?\" à variável frase.\n",
    "\n",
    "    palavras = frase.split(): O método split é chamado na string frase sem qualquer argumento, o que \n",
    "    significa que ele usará espaços em branco como o separador padrão. A string original é dividida onde \n",
    "    quer que haja um espaço, e as partes resultantes são retornadas como uma lista de strings. Neste caso, \n",
    "    a lista resultante será ['Olá,', 'como', 'vai', 'você?'].\n",
    "\n",
    "    print(palavras): Esta linha imprime a lista de palavras que foi criada, resultando na saída:\n",
    "\n",
    "     ['Olá,', 'como', 'vai', 'você?']\n",
    "\n",
    "O método split é frequentemente usado para dividir uma string em palavras ou em partes menores \n",
    "com base em um delimitador específico.\n",
    "\n",
    "\"\"\"\n",
    "\n",
    "\n",
    "#split, join e strip são métodos muito úteis da str\n",
    "frase = \"Olá, como vai você?\"\n",
    "palavras = frase.split()  # Dividindo a frase em palavras usando o espaço em branco como separador\n",
    "print(palavras)\n",
    "# Saída: ['Olá,', 'como', 'vai', 'você?']"
   ]
  },
  {
   "cell_type": "code",
   "execution_count": null,
   "id": "32982be7",
   "metadata": {},
   "outputs": [],
   "source": []
  },
  {
   "cell_type": "code",
   "execution_count": 119,
   "id": "6a7ebe1b",
   "metadata": {},
   "outputs": [
    {
     "name": "stdout",
     "output_type": "stream",
     "text": [
      "Olá, como vai você?\n"
     ]
    }
   ],
   "source": [
    "\"\"\"\n",
    "método join, que é o oposto do método split que você viu anteriormente. Ele é usado para juntar \n",
    "uma lista de strings em uma única string, usando um delimitador específico. \n",
    "\n",
    "\n",
    "    palavras = ['Olá,', 'como', 'vai', 'você?']: Essa linha cria uma lista chamada palavras \n",
    "    contendo quatro strings.\n",
    "\n",
    "    frase = ' '.join(palavras): Esta linha usa o método join, chamando-o na \n",
    "    string ' ' (um espaço em branco). O método join pega a lista palavras como argumento e \n",
    "    concatena seus elementos em uma única string, colocando um espaço em branco entre cada \n",
    "    elemento. O resultado é a string \"Olá, como vai você?\", que é então atribuído à variável frase.\n",
    "\n",
    "    print(frase): Esta linha imprime o valor da variável frase, resultando na saída:\n",
    "\n",
    "    Olá, como vai você?\n",
    "\n",
    "Em resumo, o método join é uma maneira eficiente de combinar uma lista de strings em uma única \n",
    "string, usando um delimitador específico (neste caso, um espaço em branco).\n",
    "\"\"\"\n",
    "\n",
    "\n",
    "#Método join(): O método join() junta os elementos de uma lista em uma única string, utilizando um separador especificado entre cada elemento.\n",
    "\n",
    "palavras = ['Olá,', 'como', 'vai', 'você?']\n",
    "frase = ' '.join(palavras)  # Juntando as palavras com um espaço em branco entre elas\n",
    "print(frase)\n",
    "# Saída: \"Olá, como vai você?\""
   ]
  },
  {
   "cell_type": "code",
   "execution_count": null,
   "id": "bee9320b",
   "metadata": {},
   "outputs": [],
   "source": []
  },
  {
   "cell_type": "code",
   "execution_count": 126,
   "id": "e0492caa",
   "metadata": {},
   "outputs": [
    {
     "name": "stdout",
     "output_type": "stream",
     "text": [
      "Olá!\n",
      "Olá!\n"
     ]
    }
   ],
   "source": [
    "texto = \"   Olá!    \"\n",
    "texto_strip = texto.strip()  # Removendo espaços em branco do início e do final\n",
    "print(texto_strip)\n",
    "# Saída: \"Olá!\"\n",
    "\n",
    "\"\"\"\n",
    "Nessa parte do código, a função strip() é chamada sem argumentos, e ela remove \n",
    "todos os espaços em branco no início e no final da string armazenada na variável texto. \n",
    "\n",
    "Espaços em branco incluem espaços, tabulações e caracteres de nova linha. No exemplo \n",
    "dado, a string \" Olá! \" tem três espaços antes e quatro espaços depois do texto \"Olá!\". Após a \n",
    "chamada strip(), a variável texto_strip contém a string \"Olá!\" sem espaços extras, e essa \n",
    "string é impressa.\n",
    "\"\"\"\n",
    "\n",
    "texto = \"********Olá!*********\"\n",
    "texto_strip = texto.strip('*')  # Removendo os caracteres '*' do início e do final\n",
    "print(texto_strip)\n",
    "# Saída: \"Olá!\"\n",
    "\n",
    "\"\"\"\n",
    "Nesta parte do código, a função strip() é chamada com o argumento \"*\", o que significa \n",
    "que ela vai remover todas as ocorrências do caractere \"*\" no início e no final da string. A \n",
    "string \"********Olá!*********\" tem oito asteriscos antes e nove asteriscos depois do \n",
    "texto \"Olá!\". A chamada strip('*') remove todos esses asteriscos, resultando na \n",
    "string \"Olá!\", que é armazenada na variável texto_strip e impressa.\n",
    "\n",
    "Em resumo, a função strip() sem argumentos remove espaços em branco do início e do \n",
    "final de uma string, e com um argumento, remove todas as ocorrências desse caractere \n",
    "específico do início e do final da string.\n",
    "\"\"\""
   ]
  },
  {
   "cell_type": "code",
   "execution_count": null,
   "id": "ed9bb3fb",
   "metadata": {},
   "outputs": [],
   "source": []
  },
  {
   "cell_type": "code",
   "execution_count": 127,
   "id": "674ef666",
   "metadata": {},
   "outputs": [
    {
     "name": "stdout",
     "output_type": "stream",
     "text": [
      "Olá, meu nome é Alice. Tenho 25 anos e minha altura é 1.65 metros.\n"
     ]
    }
   ],
   "source": [
    "#Utilizando Formated Strings\n",
    "\n",
    "nome = \"Alice\"\n",
    "idade = 25\n",
    "altura = 1.65\n",
    "\n",
    "# Criando uma mensagem formatada usando f-string\n",
    "mensagem = f\"Olá, meu nome é {nome}. Tenho {idade} anos e minha altura é {altura:.2f} metros.\"\n",
    "\n",
    "print(mensagem)\n",
    "\n",
    "\n",
    "\"\"\"\n",
    "Explicação:\n",
    "\n",
    "    Definindo Variáveis: Três variáveis são definidas: nome, que é uma \n",
    "    string com o valor \"Alice\"; idade, que é um inteiro com o valor 25; e \n",
    "    altura, que é um número de ponto flutuante com o valor 1.65.\n",
    "\n",
    "    Criando a Mensagem Formatada (f-string): Uma f-string é uma forma de formatar \n",
    "    strings em Python 3.6 ou superior, onde você pode incorporar expressões entre \n",
    "    chaves {} que serão avaliadas em tempo de execução.\n",
    "    \n",
    "        {nome}: Substituído pelo valor da variável nome, que é \"Alice\".\n",
    "        {idade}: Substituído pelo valor da variável idade, que é 25.\n",
    "        {altura:.2f}: Substituído pelo valor da variável altura, que é 1.65, formatado \n",
    "        com duas casas decimais. O .2f dentro das chaves significa que o número deve ser formatado \n",
    "        como um número de ponto flutuante com duas casas decimais.\n",
    "\"\"\""
   ]
  },
  {
   "cell_type": "code",
   "execution_count": null,
   "id": "40e081b3",
   "metadata": {},
   "outputs": [],
   "source": []
  },
  {
   "cell_type": "code",
   "execution_count": 135,
   "id": "0fff1756",
   "metadata": {},
   "outputs": [
    {
     "name": "stdout",
     "output_type": "stream",
     "text": [
      "OLÁ, MUNDO!\n",
      "olá, mundo!\n",
      "Olá, mundo!\n",
      "1\n",
      "OLá, amigo!\n",
      "['OLá', ' mundo!']\n",
      "Olá,mundo!\n"
     ]
    }
   ],
   "source": [
    "# Métodos para Strings\n",
    "texto = \"OLá, mundo!\"\n",
    "\n",
    "# Método upper() - Converte a string para maiúsculas\n",
    "texto_upper = texto.upper()\n",
    "print(texto_upper)  # Output: OLÁ, MUNDO!\n",
    "\n",
    "# Método lower() - Converte a string para minúsculas\n",
    "texto_lower = texto.lower()\n",
    "print(texto_lower)  # Output: olá, mundo!\n",
    "\n",
    "# Método capitalize() - Capitaliza a primeira letra da string\n",
    "#a primeira letra \"o\" é convertida em maiúscula, resultando em \"Olá, mundo!\". As demais letras permanecem em minúsculas.\n",
    "texto_capitalize = texto.capitalize()\n",
    "print(texto_capitalize)  # Output: Olá, mundo!\n",
    "\n",
    "# Método count() - Conta o número de ocorrências de um determinado caractere ou substring na string\n",
    "ocorrencias = texto.count(\"o\")\n",
    "print(ocorrencias)  # Output: 2\n",
    "\n",
    "# Método replace() - Substitui todas as ocorrências de uma substring por outra\n",
    "texto_substituido = texto.replace(\"mundo\", \"amigo\")\n",
    "print(texto_substituido)  # Output: Olá, amigo!\n",
    "\n",
    "# Método split() - Divide a string em uma lista de substrings com base em um caractere delimitador\n",
    "palavras = texto.split(\",\")\n",
    "print(palavras)  # Output: ['Olá', ' mundo!']\n",
    "\n",
    "# Método join() - Junta uma lista de strings em uma única string, separadas por um caractere específico\n",
    "lista_palavras = ['Olá', 'mundo!']\n",
    "texto_junto = \",\".join(lista_palavras)\n",
    "print(texto_junto)  # Output: Olá,mundo!"
   ]
  },
  {
   "cell_type": "code",
   "execution_count": null,
   "id": "1ffab53a",
   "metadata": {},
   "outputs": [],
   "source": []
  },
  {
   "cell_type": "code",
   "execution_count": 138,
   "id": "1e3bfb59",
   "metadata": {},
   "outputs": [
    {
     "name": "stdout",
     "output_type": "stream",
     "text": [
      "Maria Silva\n",
      "Olá, meu nome é Maria Silva e tenho 30 anos.\n"
     ]
    }
   ],
   "source": [
    "# Exercício de Manipulação de Strings em Python\n",
    "\n",
    "# 1. Crie uma variável chamada \"nome\" e atribua a ela o valor \"Maria\".\n",
    "nome = \"Maria\"\n",
    "\n",
    "# 2. Crie uma variável chamada \"sobrenome\" e atribua a ela o valor \"Silva\".\n",
    "sobrenome = \"Silva\"\n",
    "\n",
    "# 3. Crie uma variável chamada \"idade\" e atribua a ela o valor 30.\n",
    "idade = 30\n",
    "\n",
    "# 4. Concatene as variáveis \"nome\" e \"sobrenome\" em uma nova variável chamada \"nome_completo\".\n",
    "nome_completo = nome + \" \" + sobrenome\n",
    "\n",
    "# 5. Imprima na tela o valor da variável \"nome_completo\".\n",
    "print(nome_completo)\n",
    "\n",
    "# 6. Crie uma variável chamada \"mensagem\" que utilize a função format para criar uma frase \n",
    "#personalizada com as variáveis \"nome_completo\" e \"idade\".\n",
    "mensagem = \"Olá, meu nome é {} e tenho {} anos.\".format(nome_completo, idade)\n",
    "\n",
    "# 7. Imprima na tela o valor da variável \"mensagem\".\n",
    "print(mensagem)"
   ]
  },
  {
   "cell_type": "code",
   "execution_count": null,
   "id": "fa6df86d",
   "metadata": {},
   "outputs": [],
   "source": []
  },
  {
   "cell_type": "code",
   "execution_count": 144,
   "id": "fd60df4d",
   "metadata": {},
   "outputs": [
    {
     "name": "stdout",
     "output_type": "stream",
     "text": [
      "Tamanho da frase: 58\n",
      "Primeira palavra da frase: Python\n",
      "Frase em maiúsculas: PYTHON É UMA LINGUAGEM DE PROGRAMAÇÃO PODEROSA E VERSÁTIL.\n",
      "Frase com substituição: Python é uma linguagem de programação incrível e versátil.\n"
     ]
    }
   ],
   "source": [
    "# Exercício de Manipulação de Strings em Python\n",
    "\n",
    "# 1. Crie uma variável chamada \"frase\" e atribua a ela a seguinte \n",
    "#frase: \"Python é uma linguagem de programação poderosa e versátil.\"\n",
    "\n",
    "frase = \"Python é uma linguagem de programação poderosa e versátil.\"\n",
    "\n",
    "# 2. Imprima na tela o tamanho da frase, ou seja, a quantidade de \n",
    "#caracteres presentes nela.\n",
    "\n",
    "tamanho_frase = len(frase)\n",
    "print(\"Tamanho da frase:\", tamanho_frase)\n",
    "\n",
    "# 3. Crie uma variável chamada \"palavra\" e atribua a ela a primeira \n",
    "#palavra da frase.\n",
    "\n",
    "palavra = frase.split()[0]\n",
    "print(\"Primeira palavra da frase:\", palavra)\n",
    "\n",
    "# 4. Converta a variável \"frase\" para letras maiúsculas e atribua o \n",
    "#resultado a uma nova variável chamada \"frase_maiuscula\".\n",
    "\n",
    "frase_maiuscula = frase.upper()\n",
    "print(\"Frase em maiúsculas:\", frase_maiuscula)\n",
    "\n",
    "# 5. Substitua a palavra \"poderosa\" por \"incrível\" na variável \n",
    "#\"frase\" e atribua o resultado a uma nova variável chamada \"frase_substituida\".\n",
    "\n",
    "frase_substituida = frase.replace(\"poderosa\", \"incrível\")\n",
    "print(\"Frase com substituição:\", frase_substituida)"
   ]
  },
  {
   "cell_type": "code",
   "execution_count": null,
   "id": "d7c210ae",
   "metadata": {},
   "outputs": [],
   "source": []
  },
  {
   "cell_type": "code",
   "execution_count": null,
   "id": "18f4f9d7",
   "metadata": {},
   "outputs": [],
   "source": []
  },
  {
   "cell_type": "code",
   "execution_count": null,
   "id": "37133d8b",
   "metadata": {},
   "outputs": [],
   "source": []
  }
 ],
 "metadata": {
  "kernelspec": {
   "display_name": "Python 3 (ipykernel)",
   "language": "python",
   "name": "python3"
  },
  "language_info": {
   "codemirror_mode": {
    "name": "ipython",
    "version": 3
   },
   "file_extension": ".py",
   "mimetype": "text/x-python",
   "name": "python",
   "nbconvert_exporter": "python",
   "pygments_lexer": "ipython3",
   "version": "3.9.13"
  }
 },
 "nbformat": 4,
 "nbformat_minor": 5
}
